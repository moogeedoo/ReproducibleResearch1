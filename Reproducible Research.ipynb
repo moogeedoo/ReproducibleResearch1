{
 "cells": [
  {
   "cell_type": "markdown",
   "metadata": {},
   "source": [
    "# Introduction\n",
    "It is now possible to collect a large amount of data about personal movement using activity monitoring devices such as a Fitbit, Nike Fuelband, or Jawbone Up. These type of devices are part of the “quantified self” movement - a group of enthusiasts who take measurements about themselves regularly to improve their health, to find patterns in their behavior, or because they are tech geeks. But these data remain under-utilized both because the raw data are hard to obtain and there is a lack of statistical methods and software for processing and interpreting the data.\n",
    "\n",
    "This assignment makes use of data from a personal activity monitoring device. This device collects data at 5 minute intervals through out the day. The data consists of two months of data from an anonymous individual collected during the months of October and November, 2012 and include the number of steps taken in 5 minute intervals each day.\n",
    "\n",
    "Data\n",
    "The data for this assignment can be downloaded from the course web site:\n",
    "\n",
    "Dataset: Activity monitoring data [52K]\n",
    "The variables included in this dataset are:\n",
    "\n",
    "steps: Number of steps taking in a 5-minute interval (missing values are coded as NA)\n",
    "\n",
    "date: The date on which the measurement was taken in YYYY-MM-DD format\n",
    "\n",
    "interval: Identifier for the 5-minute interval in which measurement was taken\n",
    "\n",
    "The dataset is stored in a comma-separated-value (CSV) file and there are a total of 17,568 observations in this dataset."
   ]
  },
  {
   "cell_type": "markdown",
   "metadata": {},
   "source": [
    "## Solution\n",
    "Setting global options and loading required libraries"
   ]
  },
  {
   "cell_type": "code",
   "execution_count": 1,
   "metadata": {},
   "outputs": [
    {
     "name": "stderr",
     "output_type": "stream",
     "text": [
      "also installing the dependencies 'xfun', 'tinytex', 'cli', 'rlang', 'rmarkdown', 'googlesheets4', 'reprex'\n",
      "\n"
     ]
    },
    {
     "name": "stdout",
     "output_type": "stream",
     "text": [
      "\n",
      "  There are binary versions available but the source versions are later:\n",
      "              binary source needs_compilation\n",
      "xfun            0.22   0.28              TRUE\n",
      "tinytex         0.31   0.35             FALSE\n",
      "cli            2.5.0  3.1.0              TRUE\n",
      "rlang         0.4.11 0.4.12              TRUE\n",
      "rmarkdown        2.8   2.11             FALSE\n",
      "googlesheets4  0.3.0  1.0.0             FALSE\n",
      "reprex         2.0.0  2.0.1             FALSE\n",
      "\n",
      "  Binaries will be installed\n",
      "package 'xfun' successfully unpacked and MD5 sums checked\n",
      "package 'cli' successfully unpacked and MD5 sums checked\n",
      "package 'rlang' successfully unpacked and MD5 sums checked\n"
     ]
    },
    {
     "name": "stderr",
     "output_type": "stream",
     "text": [
      "Warning message:\n",
      "\"cannot remove prior installation of package 'rlang'\"Warning message in file.copy(savedcopy, lib, recursive = TRUE):\n",
      "\"problem copying C:\\Users\\nytro\\anaconda3\\Lib\\R\\library\\00LOCK\\rlang\\libs\\x64\\rlang.dll to C:\\Users\\nytro\\anaconda3\\Lib\\R\\library\\rlang\\libs\\x64\\rlang.dll: Permission denied\"Warning message:\n",
      "\"restored 'rlang'\""
     ]
    },
    {
     "name": "stdout",
     "output_type": "stream",
     "text": [
      "package 'tidyverse' successfully unpacked and MD5 sums checked\n",
      "\n",
      "The downloaded binary packages are in\n",
      "\tC:\\Users\\nytro\\AppData\\Local\\Temp\\Rtmp6VNULo\\downloaded_packages\n"
     ]
    },
    {
     "name": "stderr",
     "output_type": "stream",
     "text": [
      "installing the source packages 'tinytex', 'rmarkdown', 'googlesheets4', 'reprex'\n",
      "\n",
      "Warning message in install.packages(\"tidyverse\"):\n",
      "\"installation of package 'tinytex' had non-zero exit status\"Warning message in install.packages(\"tidyverse\"):\n",
      "\"installation of package 'googlesheets4' had non-zero exit status\"Warning message in install.packages(\"tidyverse\"):\n",
      "\"installation of package 'rmarkdown' had non-zero exit status\"Warning message in install.packages(\"tidyverse\"):\n",
      "\"installation of package 'reprex' had non-zero exit status\""
     ]
    },
    {
     "name": "stdout",
     "output_type": "stream",
     "text": [
      "\n",
      "  There is a binary version available but the source version is later:\n",
      "        binary source needs_compilation\n",
      "ggplot2  3.3.3  3.3.5             FALSE\n",
      "\n"
     ]
    },
    {
     "name": "stderr",
     "output_type": "stream",
     "text": [
      "installing the source package 'ggplot2'\n",
      "\n"
     ]
    },
    {
     "name": "stdout",
     "output_type": "stream",
     "text": [
      "\n",
      "  There is a binary version available but the source version is later:\n",
      "           binary source needs_compilation\n",
      "data.table 1.14.0 1.14.2              TRUE\n",
      "\n",
      "  Binaries will be installed\n",
      "package 'data.table' successfully unpacked and MD5 sums checked\n",
      "\n",
      "The downloaded binary packages are in\n",
      "\tC:\\Users\\nytro\\AppData\\Local\\Temp\\Rtmp6VNULo\\downloaded_packages\n",
      "\n",
      "  There is a binary version available but the source version is later:\n",
      "      binary source needs_compilation\n",
      "knitr   1.33   1.36             FALSE\n",
      "\n"
     ]
    },
    {
     "name": "stderr",
     "output_type": "stream",
     "text": [
      "installing the source package 'knitr'\n",
      "\n"
     ]
    }
   ],
   "source": [
    "install.packages(\"tidyverse\")\n",
    "install.packages(\"ggplot2\")\n",
    "install.packages(\"data.table\")\n",
    "install.packages(\"knitr\")"
   ]
  },
  {
   "cell_type": "code",
   "execution_count": 2,
   "metadata": {},
   "outputs": [
    {
     "name": "stderr",
     "output_type": "stream",
     "text": [
      "Warning message:\n",
      "\"package 'data.table' was built under R version 3.6.3\"Warning message:\n",
      "\"package 'dplyr' was built under R version 3.6.3\"\n",
      "Attaching package: 'dplyr'\n",
      "\n",
      "The following objects are masked from 'package:data.table':\n",
      "\n",
      "    between, first, last\n",
      "\n",
      "The following objects are masked from 'package:stats':\n",
      "\n",
      "    filter, lag\n",
      "\n",
      "The following objects are masked from 'package:base':\n",
      "\n",
      "    intersect, setdiff, setequal, union\n",
      "\n"
     ]
    }
   ],
   "source": [
    "library(knitr)\n",
    "library(ggplot2)\n",
    "library(data.table)\n",
    "library(dplyr)\n",
    "opts_chunk$set(echo = TRUE, results = 'hold')"
   ]
  },
  {
   "cell_type": "markdown",
   "metadata": {},
   "source": [
    "## Loading the data"
   ]
  },
  {
   "cell_type": "code",
   "execution_count": 13,
   "metadata": {},
   "outputs": [],
   "source": [
    "if(!file.exists(\"./data\")){dir.create(\"./data\")}\n",
    "fileUrl <- \"https://d396qusza40orc.cloudfront.net/repdata%2Fdata%2Factivity.zip\"\n",
    "download.file(fileUrl,destfile=\"./data/activity.zip\",method=\"curl\")\n",
    "unzip(zipfile=\"./data/activity.zip\",exdir=\"./data\")\n",
    "activity <- read.csv(\"./data/activity.csv\")\n",
    "activity$date <- as.Date(activity$date)\n",
    "activity$interval <- as.factor(activity$interval)"
   ]
  },
  {
   "cell_type": "code",
   "execution_count": 14,
   "metadata": {},
   "outputs": [
    {
     "data": {
      "text/html": [
       "<table>\n",
       "<thead><tr><th scope=col>steps</th><th scope=col>date</th><th scope=col>interval</th></tr></thead>\n",
       "<tbody>\n",
       "\t<tr><td>NA        </td><td>2012-10-01</td><td>0         </td></tr>\n",
       "\t<tr><td>NA        </td><td>2012-10-01</td><td>5         </td></tr>\n",
       "\t<tr><td>NA        </td><td>2012-10-01</td><td>10        </td></tr>\n",
       "\t<tr><td>NA        </td><td>2012-10-01</td><td>15        </td></tr>\n",
       "\t<tr><td>NA        </td><td>2012-10-01</td><td>20        </td></tr>\n",
       "\t<tr><td>NA        </td><td>2012-10-01</td><td>25        </td></tr>\n",
       "\t<tr><td>NA        </td><td>2012-10-01</td><td>30        </td></tr>\n",
       "\t<tr><td>NA        </td><td>2012-10-01</td><td>35        </td></tr>\n",
       "\t<tr><td>NA        </td><td>2012-10-01</td><td>40        </td></tr>\n",
       "\t<tr><td>NA        </td><td>2012-10-01</td><td>45        </td></tr>\n",
       "</tbody>\n",
       "</table>\n"
      ],
      "text/latex": [
       "\\begin{tabular}{r|lll}\n",
       " steps & date & interval\\\\\n",
       "\\hline\n",
       "\t NA         & 2012-10-01 & 0         \\\\\n",
       "\t NA         & 2012-10-01 & 5         \\\\\n",
       "\t NA         & 2012-10-01 & 10        \\\\\n",
       "\t NA         & 2012-10-01 & 15        \\\\\n",
       "\t NA         & 2012-10-01 & 20        \\\\\n",
       "\t NA         & 2012-10-01 & 25        \\\\\n",
       "\t NA         & 2012-10-01 & 30        \\\\\n",
       "\t NA         & 2012-10-01 & 35        \\\\\n",
       "\t NA         & 2012-10-01 & 40        \\\\\n",
       "\t NA         & 2012-10-01 & 45        \\\\\n",
       "\\end{tabular}\n"
      ],
      "text/markdown": [
       "\n",
       "| steps | date | interval |\n",
       "|---|---|---|\n",
       "| NA         | 2012-10-01 | 0          |\n",
       "| NA         | 2012-10-01 | 5          |\n",
       "| NA         | 2012-10-01 | 10         |\n",
       "| NA         | 2012-10-01 | 15         |\n",
       "| NA         | 2012-10-01 | 20         |\n",
       "| NA         | 2012-10-01 | 25         |\n",
       "| NA         | 2012-10-01 | 30         |\n",
       "| NA         | 2012-10-01 | 35         |\n",
       "| NA         | 2012-10-01 | 40         |\n",
       "| NA         | 2012-10-01 | 45         |\n",
       "\n"
      ],
      "text/plain": [
       "   steps date       interval\n",
       "1  NA    2012-10-01 0       \n",
       "2  NA    2012-10-01 5       \n",
       "3  NA    2012-10-01 10      \n",
       "4  NA    2012-10-01 15      \n",
       "5  NA    2012-10-01 20      \n",
       "6  NA    2012-10-01 25      \n",
       "7  NA    2012-10-01 30      \n",
       "8  NA    2012-10-01 35      \n",
       "9  NA    2012-10-01 40      \n",
       "10 NA    2012-10-01 45      "
      ]
     },
     "metadata": {},
     "output_type": "display_data"
    }
   ],
   "source": [
    "head(activity, 10)"
   ]
  },
  {
   "cell_type": "markdown",
   "metadata": {},
   "source": [
    "## Process the data"
   ]
  },
  {
   "cell_type": "markdown",
   "metadata": {},
   "source": [
    "### What is mean total number of steps taken per day?\n",
    "1. Calculate the total number of steps taken per day"
   ]
  },
  {
   "cell_type": "code",
   "execution_count": 5,
   "metadata": {},
   "outputs": [],
   "source": [
    "steps_per_day <- aggregate(steps ~ date, data=activity, FUN=sum)\n",
    "colnames(steps_per_day) <- c(\"date\", \"steps\")"
   ]
  },
  {
   "cell_type": "code",
   "execution_count": 6,
   "metadata": {},
   "outputs": [
    {
     "data": {
      "text/html": [
       "<table>\n",
       "<thead><tr><th scope=col>date</th><th scope=col>steps</th></tr></thead>\n",
       "<tbody>\n",
       "\t<tr><td>2012-10-02</td><td>  126     </td></tr>\n",
       "\t<tr><td>2012-10-03</td><td>11352     </td></tr>\n",
       "\t<tr><td>2012-10-04</td><td>12116     </td></tr>\n",
       "\t<tr><td>2012-10-05</td><td>13294     </td></tr>\n",
       "\t<tr><td>2012-10-06</td><td>15420     </td></tr>\n",
       "\t<tr><td>2012-10-07</td><td>11015     </td></tr>\n",
       "\t<tr><td>2012-10-09</td><td>12811     </td></tr>\n",
       "\t<tr><td>2012-10-10</td><td> 9900     </td></tr>\n",
       "\t<tr><td>2012-10-11</td><td>10304     </td></tr>\n",
       "\t<tr><td>2012-10-12</td><td>17382     </td></tr>\n",
       "</tbody>\n",
       "</table>\n"
      ],
      "text/latex": [
       "\\begin{tabular}{r|ll}\n",
       " date & steps\\\\\n",
       "\\hline\n",
       "\t 2012-10-02 &   126     \\\\\n",
       "\t 2012-10-03 & 11352     \\\\\n",
       "\t 2012-10-04 & 12116     \\\\\n",
       "\t 2012-10-05 & 13294     \\\\\n",
       "\t 2012-10-06 & 15420     \\\\\n",
       "\t 2012-10-07 & 11015     \\\\\n",
       "\t 2012-10-09 & 12811     \\\\\n",
       "\t 2012-10-10 &  9900     \\\\\n",
       "\t 2012-10-11 & 10304     \\\\\n",
       "\t 2012-10-12 & 17382     \\\\\n",
       "\\end{tabular}\n"
      ],
      "text/markdown": [
       "\n",
       "| date | steps |\n",
       "|---|---|\n",
       "| 2012-10-02 |   126      |\n",
       "| 2012-10-03 | 11352      |\n",
       "| 2012-10-04 | 12116      |\n",
       "| 2012-10-05 | 13294      |\n",
       "| 2012-10-06 | 15420      |\n",
       "| 2012-10-07 | 11015      |\n",
       "| 2012-10-09 | 12811      |\n",
       "| 2012-10-10 |  9900      |\n",
       "| 2012-10-11 | 10304      |\n",
       "| 2012-10-12 | 17382      |\n",
       "\n"
      ],
      "text/plain": [
       "   date       steps\n",
       "1  2012-10-02   126\n",
       "2  2012-10-03 11352\n",
       "3  2012-10-04 12116\n",
       "4  2012-10-05 13294\n",
       "5  2012-10-06 15420\n",
       "6  2012-10-07 11015\n",
       "7  2012-10-09 12811\n",
       "8  2012-10-10  9900\n",
       "9  2012-10-11 10304\n",
       "10 2012-10-12 17382"
      ]
     },
     "metadata": {},
     "output_type": "display_data"
    }
   ],
   "source": [
    "head(steps_per_day, 10)"
   ]
  },
  {
   "cell_type": "markdown",
   "metadata": {},
   "source": [
    "2. Make a histogram of the total number of steps taken each day"
   ]
  },
  {
   "cell_type": "code",
   "execution_count": 8,
   "metadata": {},
   "outputs": [
    {
     "data": {
      "image/png": "[encoded data removed]",
      "text/plain": [
       "plot without title"
      ]
     },
     "metadata": {},
     "output_type": "display_data"
    }
   ],
   "source": [
    "ggplot(steps_per_day, aes(x = steps)) + \n",
    "  geom_histogram(fill = \"blue\", binwidth = 1000) + \n",
    "  labs(title = \"Histogram - Steps Taken Per Day\", x = \"Steps Per Day\", y = \"Frequency\")"
   ]
  },
  {
   "cell_type": "markdown",
   "metadata": {},
   "source": [
    "3. Calculate and report the mean and median of the total number of steps taken per day"
   ]
  },
  {
   "cell_type": "code",
   "execution_count": 10,
   "metadata": {},
   "outputs": [
    {
     "data": {
      "text/html": [
       "10766.1886792453"
      ],
      "text/latex": [
       "10766.1886792453"
      ],
      "text/markdown": [
       "10766.1886792453"
      ],
      "text/plain": [
       "[1] 10766.19"
      ]
     },
     "metadata": {},
     "output_type": "display_data"
    },
    {
     "data": {
      "text/html": [
       "10765"
      ],
      "text/latex": [
       "10765"
      ],
      "text/markdown": [
       "10765"
      ],
      "text/plain": [
       "[1] 10765"
      ]
     },
     "metadata": {},
     "output_type": "display_data"
    }
   ],
   "source": [
    "mean_steps_per_day <- mean(steps_per_day$steps)\n",
    "mean_steps_per_day\n",
    "median_steps_per_day <- median(steps_per_day$steps)\n",
    "median_steps_per_day"
   ]
  },
  {
   "cell_type": "markdown",
   "metadata": {},
   "source": [
    "### What is the average daily activity pattern?\n",
    "1. Make a time series plot (i.e. type = “l”) of the 5-minute interval (x-axis) and the average number of steps taken, averaged across all days (y-axis)"
   ]
  },
  {
   "cell_type": "code",
   "execution_count": 15,
   "metadata": {},
   "outputs": [],
   "source": [
    "steps_per_interval <- aggregate(steps ~ interval, data = activity, FUN = mean, na.rm = TRUE)\n",
    "steps_per_interval$interval <- as.integer(levels(steps_per_interval$interval)[steps_per_interval$interval])\n",
    "colnames(steps_per_interval) <- c(\"interval\", \"steps\")"
   ]
  },
  {
   "cell_type": "code",
   "execution_count": 16,
   "metadata": {},
   "outputs": [
    {
     "data": {
      "text/html": [
       "<table>\n",
       "<thead><tr><th scope=col>interval</th><th scope=col>steps</th></tr></thead>\n",
       "<tbody>\n",
       "\t<tr><td> 0       </td><td>1.7169811</td></tr>\n",
       "\t<tr><td> 5       </td><td>0.3396226</td></tr>\n",
       "\t<tr><td>10       </td><td>0.1320755</td></tr>\n",
       "\t<tr><td>15       </td><td>0.1509434</td></tr>\n",
       "\t<tr><td>20       </td><td>0.0754717</td></tr>\n",
       "\t<tr><td>25       </td><td>2.0943396</td></tr>\n",
       "\t<tr><td>30       </td><td>0.5283019</td></tr>\n",
       "\t<tr><td>35       </td><td>0.8679245</td></tr>\n",
       "\t<tr><td>40       </td><td>0.0000000</td></tr>\n",
       "\t<tr><td>45       </td><td>1.4716981</td></tr>\n",
       "</tbody>\n",
       "</table>\n"
      ],
      "text/latex": [
       "\\begin{tabular}{r|ll}\n",
       " interval & steps\\\\\n",
       "\\hline\n",
       "\t  0        & 1.7169811\\\\\n",
       "\t  5        & 0.3396226\\\\\n",
       "\t 10        & 0.1320755\\\\\n",
       "\t 15        & 0.1509434\\\\\n",
       "\t 20        & 0.0754717\\\\\n",
       "\t 25        & 2.0943396\\\\\n",
       "\t 30        & 0.5283019\\\\\n",
       "\t 35        & 0.8679245\\\\\n",
       "\t 40        & 0.0000000\\\\\n",
       "\t 45        & 1.4716981\\\\\n",
       "\\end{tabular}\n"
      ],
      "text/markdown": [
       "\n",
       "| interval | steps |\n",
       "|---|---|\n",
       "|  0        | 1.7169811 |\n",
       "|  5        | 0.3396226 |\n",
       "| 10        | 0.1320755 |\n",
       "| 15        | 0.1509434 |\n",
       "| 20        | 0.0754717 |\n",
       "| 25        | 2.0943396 |\n",
       "| 30        | 0.5283019 |\n",
       "| 35        | 0.8679245 |\n",
       "| 40        | 0.0000000 |\n",
       "| 45        | 1.4716981 |\n",
       "\n"
      ],
      "text/plain": [
       "   interval steps    \n",
       "1   0       1.7169811\n",
       "2   5       0.3396226\n",
       "3  10       0.1320755\n",
       "4  15       0.1509434\n",
       "5  20       0.0754717\n",
       "6  25       2.0943396\n",
       "7  30       0.5283019\n",
       "8  35       0.8679245\n",
       "9  40       0.0000000\n",
       "10 45       1.4716981"
      ]
     },
     "metadata": {},
     "output_type": "display_data"
    }
   ],
   "source": [
    "head(steps_per_interval, 10)"
   ]
  },
  {
   "cell_type": "code",
   "execution_count": 17,
   "metadata": {},
   "outputs": [
    {
     "data": {
      "image/png": "[encoded data removed]",
      "text/plain": [
       "plot without title"
      ]
     },
     "metadata": {},
     "output_type": "display_data"
    }
   ],
   "source": [
    "ggplot(steps_per_interval, aes(x = interval, y = steps)) + \n",
    "  geom_line(col = \"blue\", size = 1) + \n",
    "  labs(title = \"Average Daily Activity Pattern\", x = \"Interval\", y = \"Steps\")"
   ]
  },
  {
   "cell_type": "markdown",
   "metadata": {},
   "source": [
    "2. Which 5-minute interval, on average across all the days in the dataset, contains the maximum number of steps?"
   ]
  },
  {
   "cell_type": "code",
   "execution_count": 18,
   "metadata": {},
   "outputs": [
    {
     "data": {
      "text/html": [
       "<table>\n",
       "<thead><tr><th></th><th scope=col>interval</th><th scope=col>steps</th></tr></thead>\n",
       "<tbody>\n",
       "\t<tr><th scope=row>104</th><td>835     </td><td>206.1698</td></tr>\n",
       "</tbody>\n",
       "</table>\n"
      ],
      "text/latex": [
       "\\begin{tabular}{r|ll}\n",
       "  & interval & steps\\\\\n",
       "\\hline\n",
       "\t104 & 835      & 206.1698\\\\\n",
       "\\end{tabular}\n"
      ],
      "text/markdown": [
       "\n",
       "| <!--/--> | interval | steps |\n",
       "|---|---|---|\n",
       "| 104 | 835      | 206.1698 |\n",
       "\n"
      ],
      "text/plain": [
       "    interval steps   \n",
       "104 835      206.1698"
      ]
     },
     "metadata": {},
     "output_type": "display_data"
    }
   ],
   "source": [
    "max_interval <- steps_per_interval[which.max(steps_per_interval$steps),]\n",
    "max_interval"
   ]
  },
  {
   "cell_type": "markdown",
   "metadata": {},
   "source": [
    "## Imputing missing values\n",
    "1. Calculate and report the total number of missing values in the dataset (i.e. the total number of rows with NAs)"
   ]
  },
  {
   "cell_type": "code",
   "execution_count": 20,
   "metadata": {},
   "outputs": [
    {
     "data": {
      "text/html": [
       "2304"
      ],
      "text/latex": [
       "2304"
      ],
      "text/markdown": [
       "2304"
      ],
      "text/plain": [
       "[1] 2304"
      ]
     },
     "metadata": {},
     "output_type": "display_data"
    }
   ],
   "source": [
    "missing_values <- sum(is.na(activity$steps))\n",
    "missing_values"
   ]
  },
  {
   "cell_type": "markdown",
   "metadata": {},
   "source": [
    "2. Devise a strategy for filling in all of the missing values in the dataset. The strategy does not need to be sophisticated. For example, you could use the mean/median for that day, or the mean for that 5-minute interval, etc.\n",
    "\n",
    "\n",
    "To populate missing values, we choose to replace them with the mean value at the same interval across days.\n",
    "\n",
    "3. Create a new dataset that is equal to the original dataset but with the missing data filled in."
   ]
  },
  {
   "cell_type": "code",
   "execution_count": 21,
   "metadata": {},
   "outputs": [],
   "source": [
    "new_act_data <- activity\n",
    "index_of_na <- which(is.na(new_act_data$steps))\n",
    "for (i in index_of_na) {\n",
    "  new_act_data$steps[i] <- with(steps_per_interval, steps[interval = new_act_data$interval[i]])\n",
    "}"
   ]
  },
  {
   "cell_type": "code",
   "execution_count": 22,
   "metadata": {},
   "outputs": [
    {
     "data": {
      "text/html": [
       "<table>\n",
       "<thead><tr><th scope=col>steps</th><th scope=col>date</th><th scope=col>interval</th></tr></thead>\n",
       "<tbody>\n",
       "\t<tr><td>1.7169811 </td><td>2012-10-01</td><td>0         </td></tr>\n",
       "\t<tr><td>0.3396226 </td><td>2012-10-01</td><td>5         </td></tr>\n",
       "\t<tr><td>0.1320755 </td><td>2012-10-01</td><td>10        </td></tr>\n",
       "\t<tr><td>0.1509434 </td><td>2012-10-01</td><td>15        </td></tr>\n",
       "\t<tr><td>0.0754717 </td><td>2012-10-01</td><td>20        </td></tr>\n",
       "\t<tr><td>2.0943396 </td><td>2012-10-01</td><td>25        </td></tr>\n",
       "\t<tr><td>0.5283019 </td><td>2012-10-01</td><td>30        </td></tr>\n",
       "\t<tr><td>0.8679245 </td><td>2012-10-01</td><td>35        </td></tr>\n",
       "\t<tr><td>0.0000000 </td><td>2012-10-01</td><td>40        </td></tr>\n",
       "\t<tr><td>1.4716981 </td><td>2012-10-01</td><td>45        </td></tr>\n",
       "</tbody>\n",
       "</table>\n"
      ],
      "text/latex": [
       "\\begin{tabular}{r|lll}\n",
       " steps & date & interval\\\\\n",
       "\\hline\n",
       "\t 1.7169811  & 2012-10-01 & 0         \\\\\n",
       "\t 0.3396226  & 2012-10-01 & 5         \\\\\n",
       "\t 0.1320755  & 2012-10-01 & 10        \\\\\n",
       "\t 0.1509434  & 2012-10-01 & 15        \\\\\n",
       "\t 0.0754717  & 2012-10-01 & 20        \\\\\n",
       "\t 2.0943396  & 2012-10-01 & 25        \\\\\n",
       "\t 0.5283019  & 2012-10-01 & 30        \\\\\n",
       "\t 0.8679245  & 2012-10-01 & 35        \\\\\n",
       "\t 0.0000000  & 2012-10-01 & 40        \\\\\n",
       "\t 1.4716981  & 2012-10-01 & 45        \\\\\n",
       "\\end{tabular}\n"
      ],
      "text/markdown": [
       "\n",
       "| steps | date | interval |\n",
       "|---|---|---|\n",
       "| 1.7169811  | 2012-10-01 | 0          |\n",
       "| 0.3396226  | 2012-10-01 | 5          |\n",
       "| 0.1320755  | 2012-10-01 | 10         |\n",
       "| 0.1509434  | 2012-10-01 | 15         |\n",
       "| 0.0754717  | 2012-10-01 | 20         |\n",
       "| 2.0943396  | 2012-10-01 | 25         |\n",
       "| 0.5283019  | 2012-10-01 | 30         |\n",
       "| 0.8679245  | 2012-10-01 | 35         |\n",
       "| 0.0000000  | 2012-10-01 | 40         |\n",
       "| 1.4716981  | 2012-10-01 | 45         |\n",
       "\n"
      ],
      "text/plain": [
       "   steps     date       interval\n",
       "1  1.7169811 2012-10-01 0       \n",
       "2  0.3396226 2012-10-01 5       \n",
       "3  0.1320755 2012-10-01 10      \n",
       "4  0.1509434 2012-10-01 15      \n",
       "5  0.0754717 2012-10-01 20      \n",
       "6  2.0943396 2012-10-01 25      \n",
       "7  0.5283019 2012-10-01 30      \n",
       "8  0.8679245 2012-10-01 35      \n",
       "9  0.0000000 2012-10-01 40      \n",
       "10 1.4716981 2012-10-01 45      "
      ]
     },
     "metadata": {},
     "output_type": "display_data"
    }
   ],
   "source": [
    "head(new_act_data, 10)"
   ]
  },
  {
   "cell_type": "code",
   "execution_count": 23,
   "metadata": {},
   "outputs": [
    {
     "data": {
      "text/html": [
       "0"
      ],
      "text/latex": [
       "0"
      ],
      "text/markdown": [
       "0"
      ],
      "text/plain": [
       "[1] 0"
      ]
     },
     "metadata": {},
     "output_type": "display_data"
    }
   ],
   "source": [
    "new_missing_values <- sum(is.na(new_act_data$steps))\n",
    "new_missing_values"
   ]
  },
  {
   "cell_type": "markdown",
   "metadata": {},
   "source": [
    "4. Make a histogram of the total number of steps taken each day and Calculate and report the mean and median total number of steps taken per day. Do these values differ from the estimates from the first part of the assignment? What is the impact of imputing missing data on the estimates of the total daily number of steps?"
   ]
  },
  {
   "cell_type": "code",
   "execution_count": 24,
   "metadata": {},
   "outputs": [
    {
     "data": {
      "image/png": "[encoded data removed]",
      "text/plain": [
       "plot without title"
      ]
     },
     "metadata": {},
     "output_type": "display_data"
    }
   ],
   "source": [
    "new_steps_per_day <- aggregate(steps ~ date, data = new_act_data, FUN=sum)\n",
    "colnames(new_steps_per_day) <- c(\"date\", \"steps\")\n",
    "ggplot(new_steps_per_day, aes(x = steps)) + \n",
    "  geom_histogram(fill = \"blue\", binwidth = 1000) + \n",
    "  labs(title = \"Histogram - Steps Taken Per Day\", x = \"Steps Per Day\", y = \"Frequency\")"
   ]
  },
  {
   "cell_type": "code",
   "execution_count": 25,
   "metadata": {},
   "outputs": [
    {
     "data": {
      "text/html": [
       "10766.1886792453"
      ],
      "text/latex": [
       "10766.1886792453"
      ],
      "text/markdown": [
       "10766.1886792453"
      ],
      "text/plain": [
       "[1] 10766.19"
      ]
     },
     "metadata": {},
     "output_type": "display_data"
    },
    {
     "data": {
      "text/html": [
       "10766.1886792453"
      ],
      "text/latex": [
       "10766.1886792453"
      ],
      "text/markdown": [
       "10766.1886792453"
      ],
      "text/plain": [
       "[1] 10766.19"
      ]
     },
     "metadata": {},
     "output_type": "display_data"
    }
   ],
   "source": [
    "new_mean_steps_per_day <- mean(new_steps_per_day$steps)\n",
    "new_mean_steps_per_day\n",
    "new_median_steps_per_day <- median(new_steps_per_day$steps)\n",
    "new_median_steps_per_day"
   ]
  },
  {
   "cell_type": "markdown",
   "metadata": {},
   "source": [
    "### Are there differences in activity patterns between weekdays and weekends?\n",
    "\n",
    "1. Create a new factor variable in the dataset with two levels - “weekday” and “weekend” indicating whether a given date is a weekday or weekend day.\n",
    "\n",
    "Let us first add a factor variable to identify the given date as Weekday or Weekend"
   ]
  },
  {
   "cell_type": "code",
   "execution_count": 26,
   "metadata": {},
   "outputs": [
    {
     "data": {
      "text/html": [
       "<table>\n",
       "<thead><tr><th scope=col>steps</th><th scope=col>date</th><th scope=col>interval</th><th scope=col>weekday</th></tr></thead>\n",
       "<tbody>\n",
       "\t<tr><td>1.7169811 </td><td>2012-10-01</td><td> 0        </td><td>Weekday   </td></tr>\n",
       "\t<tr><td>0.3396226 </td><td>2012-10-01</td><td> 5        </td><td>Weekday   </td></tr>\n",
       "\t<tr><td>0.1320755 </td><td>2012-10-01</td><td>10        </td><td>Weekday   </td></tr>\n",
       "\t<tr><td>0.1509434 </td><td>2012-10-01</td><td>15        </td><td>Weekday   </td></tr>\n",
       "\t<tr><td>0.0754717 </td><td>2012-10-01</td><td>20        </td><td>Weekday   </td></tr>\n",
       "\t<tr><td>2.0943396 </td><td>2012-10-01</td><td>25        </td><td>Weekday   </td></tr>\n",
       "\t<tr><td>0.5283019 </td><td>2012-10-01</td><td>30        </td><td>Weekday   </td></tr>\n",
       "\t<tr><td>0.8679245 </td><td>2012-10-01</td><td>35        </td><td>Weekday   </td></tr>\n",
       "\t<tr><td>0.0000000 </td><td>2012-10-01</td><td>40        </td><td>Weekday   </td></tr>\n",
       "\t<tr><td>1.4716981 </td><td>2012-10-01</td><td>45        </td><td>Weekday   </td></tr>\n",
       "</tbody>\n",
       "</table>\n"
      ],
      "text/latex": [
       "\\begin{tabular}{r|llll}\n",
       " steps & date & interval & weekday\\\\\n",
       "\\hline\n",
       "\t 1.7169811  & 2012-10-01 &  0         & Weekday   \\\\\n",
       "\t 0.3396226  & 2012-10-01 &  5         & Weekday   \\\\\n",
       "\t 0.1320755  & 2012-10-01 & 10         & Weekday   \\\\\n",
       "\t 0.1509434  & 2012-10-01 & 15         & Weekday   \\\\\n",
       "\t 0.0754717  & 2012-10-01 & 20         & Weekday   \\\\\n",
       "\t 2.0943396  & 2012-10-01 & 25         & Weekday   \\\\\n",
       "\t 0.5283019  & 2012-10-01 & 30         & Weekday   \\\\\n",
       "\t 0.8679245  & 2012-10-01 & 35         & Weekday   \\\\\n",
       "\t 0.0000000  & 2012-10-01 & 40         & Weekday   \\\\\n",
       "\t 1.4716981  & 2012-10-01 & 45         & Weekday   \\\\\n",
       "\\end{tabular}\n"
      ],
      "text/markdown": [
       "\n",
       "| steps | date | interval | weekday |\n",
       "|---|---|---|---|\n",
       "| 1.7169811  | 2012-10-01 |  0         | Weekday    |\n",
       "| 0.3396226  | 2012-10-01 |  5         | Weekday    |\n",
       "| 0.1320755  | 2012-10-01 | 10         | Weekday    |\n",
       "| 0.1509434  | 2012-10-01 | 15         | Weekday    |\n",
       "| 0.0754717  | 2012-10-01 | 20         | Weekday    |\n",
       "| 2.0943396  | 2012-10-01 | 25         | Weekday    |\n",
       "| 0.5283019  | 2012-10-01 | 30         | Weekday    |\n",
       "| 0.8679245  | 2012-10-01 | 35         | Weekday    |\n",
       "| 0.0000000  | 2012-10-01 | 40         | Weekday    |\n",
       "| 1.4716981  | 2012-10-01 | 45         | Weekday    |\n",
       "\n"
      ],
      "text/plain": [
       "   steps     date       interval weekday\n",
       "1  1.7169811 2012-10-01  0       Weekday\n",
       "2  0.3396226 2012-10-01  5       Weekday\n",
       "3  0.1320755 2012-10-01 10       Weekday\n",
       "4  0.1509434 2012-10-01 15       Weekday\n",
       "5  0.0754717 2012-10-01 20       Weekday\n",
       "6  2.0943396 2012-10-01 25       Weekday\n",
       "7  0.5283019 2012-10-01 30       Weekday\n",
       "8  0.8679245 2012-10-01 35       Weekday\n",
       "9  0.0000000 2012-10-01 40       Weekday\n",
       "10 1.4716981 2012-10-01 45       Weekday"
      ]
     },
     "metadata": {},
     "output_type": "display_data"
    }
   ],
   "source": [
    "dt <- data.table(new_act_data)\n",
    "dt[, weekday := ifelse(weekdays(date) %in% c(\"Saturday\", \"Sunday\"), \"Weekend\", \"Weekday\")]\n",
    "dt$weekday <- as.factor(dt$weekday)\n",
    "dt$interval <- as.integer(levels(dt$interval)[dt$interval])\n",
    "head(dt, 10)"
   ]
  },
  {
   "cell_type": "markdown",
   "metadata": {},
   "source": [
    "2. Make a panel plot containing a time series plot (i.e. type = “l”) of the 5-minute interval (x-axis) and the average number of steps taken, averaged across all weekday days or weekend days (y-axis)"
   ]
  },
  {
   "cell_type": "code",
   "execution_count": 27,
   "metadata": {},
   "outputs": [
    {
     "data": {
      "image/png": "[encoded data removed]",
      "text/plain": [
       "plot without title"
      ]
     },
     "metadata": {},
     "output_type": "display_data"
    }
   ],
   "source": [
    "steps_per_weekday <- aggregate(steps ~ interval+weekday, data = dt, FUN = mean)\n",
    "ggplot(steps_per_weekday, aes(x = interval, y = steps)) + \n",
    "  geom_line(col = \"blue\", size = 1) + \n",
    "  facet_wrap(~ weekday, nrow=2, ncol=1) + \n",
    "  labs(x = \"Interval\", y = \"Number of Steps\")"
   ]
  },
  {
   "cell_type": "markdown",
   "metadata": {},
   "source": [
    "Looking at the above graph we notice that the activity on weekdays has the highest peak (> 300) compared to all intervals and only one other peak that touches 100. On the contrary, weekend intervals have more peaks over a hundred than weekday. May be the person from whomever the data is collected is engaged in more active life style during weekends compared to weekdays."
   ]
  },
  {
   "cell_type": "code",
   "execution_count": null,
   "metadata": {},
   "outputs": [],
   "source": []
  }
 ],
 "metadata": {
  "kernelspec": {
   "display_name": "R 4.0.0",
   "language": "R",
   "name": "ir35"
  },
  "language_info": {
   "codemirror_mode": "r",
   "file_extension": ".r",
   "mimetype": "text/x-r-source",
   "name": "R",
   "pygments_lexer": "r",
   "version": "3.6.1"
  }
 },
 "nbformat": 4,
 "nbformat_minor": 4
}
